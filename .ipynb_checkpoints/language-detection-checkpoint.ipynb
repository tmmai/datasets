{
 "cells": [
  {
   "cell_type": "code",
   "execution_count": 13,
   "id": "c8874a1e",
   "metadata": {
    "_cell_guid": "b1076dfc-b9ad-4769-8c92-a6c4dae69d19",
    "_uuid": "8f2839f25d086af736a60e9eeb907d3b93b6e0e5",
    "execution": {
     "iopub.execute_input": "2023-03-22T08:20:47.312158Z",
     "iopub.status.busy": "2023-03-22T08:20:47.311179Z",
     "iopub.status.idle": "2023-03-22T08:21:00.054952Z",
     "shell.execute_reply": "2023-03-22T08:21:00.053050Z"
    },
    "papermill": {
     "duration": 12.759633,
     "end_time": "2023-03-22T08:21:00.058560",
     "exception": false,
     "start_time": "2023-03-22T08:20:47.298927",
     "status": "completed"
    },
    "tags": []
   },
   "outputs": [],
   "source": [
    "import matplotlib.pyplot as plt  \n",
    "import numpy as np\n",
    "import pandas as pd\n",
    "import re\n",
    "import seaborn as sns\n",
    "import tensorflow as tf\n",
    "\n",
    "from keras.preprocessing.text import Tokenizer\n",
    "from sklearn.metrics import classification_report, confusion_matrix\n",
    "from sklearn.linear_model import LogisticRegression\n",
    "from sklearn.model_selection import train_test_split\n",
    "from sklearn.preprocessing import OneHotEncoder\n",
    "from tensorflow.keras.models import Sequential\n",
    "from tensorflow.keras.layers import Dense"
   ]
  },
  {
   "cell_type": "markdown",
   "id": "fdf0adae",
   "metadata": {},
   "source": [
    "# Context\n",
    "Original Kaggle dataset can be found here: https://www.kaggle.com/datasets/basilb2s/language-detection\n",
    "Language detection models for Kaggle's language detection dataset, used to predict a language given input text.\n",
    "\n",
    "Languages include:\n",
    "\n",
    "- English\n",
    "- Malayalam\n",
    "- Hindi\n",
    "- Tamil\n",
    "- Kannada\n",
    "- French\n",
    "- Spanish\n",
    "- Portuguese\n",
    "- Italian\n",
    "- Russian\n",
    "- Swedish\n",
    "- Dutch\n",
    "- Arabic\n",
    "- Turkish\n",
    "- German\n",
    "- Danish\n",
    "- Greek\n",
    "\n",
    "**Goal:** Goal is primarily to have a playground to learn and explore different models, test my own Numpy implemented models, and practice data processing/analysis as I study ML.\n",
    "\n",
    "**Status:** Currently includes three models: Sklearn's logistic regression, a basic Tensorflow multilayer perceptron neural network, and my own softmax regression implementation in Numpy. I plan to explore Multinomial Naive Bayes next. \n",
    "\n",
    "Note: I accidentally included the entire dataset in the BOW model, so I need to go back to UNK/smooth."
   ]
  },
  {
   "cell_type": "markdown",
   "id": "66a96519",
   "metadata": {
    "papermill": {
     "duration": 0.007882,
     "end_time": "2023-03-22T08:21:00.076221",
     "exception": false,
     "start_time": "2023-03-22T08:21:00.068339",
     "status": "completed"
    },
    "tags": []
   },
   "source": [
    "# Data Exploration"
   ]
  },
  {
   "cell_type": "code",
   "execution_count": 17,
   "id": "d290d816",
   "metadata": {
    "execution": {
     "iopub.execute_input": "2023-03-22T08:21:00.095643Z",
     "iopub.status.busy": "2023-03-22T08:21:00.094568Z",
     "iopub.status.idle": "2023-03-22T08:21:00.247548Z",
     "shell.execute_reply": "2023-03-22T08:21:00.246300Z"
    },
    "papermill": {
     "duration": 0.166078,
     "end_time": "2023-03-22T08:21:00.250568",
     "exception": false,
     "start_time": "2023-03-22T08:21:00.084490",
     "status": "completed"
    },
    "tags": []
   },
   "outputs": [
    {
     "data": {
      "text/html": [
       "<div>\n",
       "<style scoped>\n",
       "    .dataframe tbody tr th:only-of-type {\n",
       "        vertical-align: middle;\n",
       "    }\n",
       "\n",
       "    .dataframe tbody tr th {\n",
       "        vertical-align: top;\n",
       "    }\n",
       "\n",
       "    .dataframe thead th {\n",
       "        text-align: right;\n",
       "    }\n",
       "</style>\n",
       "<table border=\"1\" class=\"dataframe\">\n",
       "  <thead>\n",
       "    <tr style=\"text-align: right;\">\n",
       "      <th></th>\n",
       "      <th>Text</th>\n",
       "      <th>Language</th>\n",
       "    </tr>\n",
       "  </thead>\n",
       "  <tbody>\n",
       "    <tr>\n",
       "      <th>0</th>\n",
       "      <td>Nature, in the broadest sense, is the natural...</td>\n",
       "      <td>English</td>\n",
       "    </tr>\n",
       "    <tr>\n",
       "      <th>1</th>\n",
       "      <td>\"Nature\" can refer to the phenomena of the phy...</td>\n",
       "      <td>English</td>\n",
       "    </tr>\n",
       "    <tr>\n",
       "      <th>2</th>\n",
       "      <td>The study of nature is a large, if not the onl...</td>\n",
       "      <td>English</td>\n",
       "    </tr>\n",
       "    <tr>\n",
       "      <th>3</th>\n",
       "      <td>Although humans are part of nature, human acti...</td>\n",
       "      <td>English</td>\n",
       "    </tr>\n",
       "    <tr>\n",
       "      <th>4</th>\n",
       "      <td>[1] The word nature is borrowed from the Old F...</td>\n",
       "      <td>English</td>\n",
       "    </tr>\n",
       "    <tr>\n",
       "      <th>...</th>\n",
       "      <td>...</td>\n",
       "      <td>...</td>\n",
       "    </tr>\n",
       "    <tr>\n",
       "      <th>10332</th>\n",
       "      <td>ನಿಮ್ಮ ತಪ್ಪು ಏನು ಬಂದಿದೆಯೆಂದರೆ ಆ ದಿನದಿಂದ ನಿಮಗೆ ಒ...</td>\n",
       "      <td>Kannada</td>\n",
       "    </tr>\n",
       "    <tr>\n",
       "      <th>10333</th>\n",
       "      <td>ನಾರ್ಸಿಸಾ ತಾನು ಮೊದಲಿಗೆ ಹೆಣಗಾಡುತ್ತಿದ್ದ ಮಾರ್ಗಗಳನ್...</td>\n",
       "      <td>Kannada</td>\n",
       "    </tr>\n",
       "    <tr>\n",
       "      <th>10334</th>\n",
       "      <td>ಹೇಗೆ ' ನಾರ್ಸಿಸಿಸಮ್ ಈಗ ಮರಿಯನ್ ಅವರಿಗೆ ಸಂಭವಿಸಿದ ಎ...</td>\n",
       "      <td>Kannada</td>\n",
       "    </tr>\n",
       "    <tr>\n",
       "      <th>10335</th>\n",
       "      <td>ಅವಳು ಈಗ ಹೆಚ್ಚು ಚಿನ್ನದ ಬ್ರೆಡ್ ಬಯಸುವುದಿಲ್ಲ ಎಂದು ...</td>\n",
       "      <td>Kannada</td>\n",
       "    </tr>\n",
       "    <tr>\n",
       "      <th>10336</th>\n",
       "      <td>ಟೆರ್ರಿ ನೀವು ನಿಜವಾಗಿಯೂ ಆ ದೇವದೂತನಂತೆ ಸ್ವಲ್ಪ ಕಾಣು...</td>\n",
       "      <td>Kannada</td>\n",
       "    </tr>\n",
       "  </tbody>\n",
       "</table>\n",
       "<p>10337 rows × 2 columns</p>\n",
       "</div>"
      ],
      "text/plain": [
       "                                                    Text Language\n",
       "0       Nature, in the broadest sense, is the natural...  English\n",
       "1      \"Nature\" can refer to the phenomena of the phy...  English\n",
       "2      The study of nature is a large, if not the onl...  English\n",
       "3      Although humans are part of nature, human acti...  English\n",
       "4      [1] The word nature is borrowed from the Old F...  English\n",
       "...                                                  ...      ...\n",
       "10332  ನಿಮ್ಮ ತಪ್ಪು ಏನು ಬಂದಿದೆಯೆಂದರೆ ಆ ದಿನದಿಂದ ನಿಮಗೆ ಒ...  Kannada\n",
       "10333  ನಾರ್ಸಿಸಾ ತಾನು ಮೊದಲಿಗೆ ಹೆಣಗಾಡುತ್ತಿದ್ದ ಮಾರ್ಗಗಳನ್...  Kannada\n",
       "10334  ಹೇಗೆ ' ನಾರ್ಸಿಸಿಸಮ್ ಈಗ ಮರಿಯನ್ ಅವರಿಗೆ ಸಂಭವಿಸಿದ ಎ...  Kannada\n",
       "10335  ಅವಳು ಈಗ ಹೆಚ್ಚು ಚಿನ್ನದ ಬ್ರೆಡ್ ಬಯಸುವುದಿಲ್ಲ ಎಂದು ...  Kannada\n",
       "10336  ಟೆರ್ರಿ ನೀವು ನಿಜವಾಗಿಯೂ ಆ ದೇವದೂತನಂತೆ ಸ್ವಲ್ಪ ಕಾಣು...  Kannada\n",
       "\n",
       "[10337 rows x 2 columns]"
      ]
     },
     "execution_count": 17,
     "metadata": {},
     "output_type": "execute_result"
    }
   ],
   "source": [
    "data = pd.read_csv('C:/Users/tmmet/Jupyter Notebooks/language-detection/language_detection.csv')\n",
    "data.dropna()"
   ]
  },
  {
   "cell_type": "code",
   "execution_count": 18,
   "id": "df4dd44a",
   "metadata": {
    "execution": {
     "iopub.execute_input": "2023-03-22T08:21:00.270856Z",
     "iopub.status.busy": "2023-03-22T08:21:00.269364Z",
     "iopub.status.idle": "2023-03-22T08:21:00.288571Z",
     "shell.execute_reply": "2023-03-22T08:21:00.286921Z"
    },
    "papermill": {
     "duration": 0.032786,
     "end_time": "2023-03-22T08:21:00.291809",
     "exception": false,
     "start_time": "2023-03-22T08:21:00.259023",
     "status": "completed"
    },
    "tags": []
   },
   "outputs": [
    {
     "data": {
      "text/plain": [
       "English       1385\n",
       "French        1014\n",
       "Spanish        819\n",
       "Portugeese     739\n",
       "Italian        698\n",
       "Russian        692\n",
       "Sweedish       676\n",
       "Malayalam      594\n",
       "Dutch          546\n",
       "Arabic         536\n",
       "Turkish        474\n",
       "German         470\n",
       "Tamil          469\n",
       "Danish         428\n",
       "Kannada        369\n",
       "Greek          365\n",
       "Hindi           63\n",
       "Name: Language, dtype: int64"
      ]
     },
     "execution_count": 18,
     "metadata": {},
     "output_type": "execute_result"
    }
   ],
   "source": [
    "data['Language'].value_counts()"
   ]
  },
  {
   "cell_type": "code",
   "execution_count": 19,
   "id": "7ab331d4",
   "metadata": {
    "execution": {
     "iopub.execute_input": "2023-03-22T08:21:00.311801Z",
     "iopub.status.busy": "2023-03-22T08:21:00.311285Z",
     "iopub.status.idle": "2023-03-22T08:21:00.371563Z",
     "shell.execute_reply": "2023-03-22T08:21:00.369325Z"
    },
    "papermill": {
     "duration": 0.074296,
     "end_time": "2023-03-22T08:21:00.374641",
     "exception": false,
     "start_time": "2023-03-22T08:21:00.300345",
     "status": "completed"
    },
    "tags": []
   },
   "outputs": [
    {
     "name": "stdout",
     "output_type": "stream",
     "text": [
      "                                                Text Language\n",
      "0   Nature, in the broadest sense, is the natural...  English\n",
      "                                                   Text   Language\n",
      "1385  ഭൗതികപ്രപഞ്ചത്തെ മൊത്തത്തിൽ സൂചിപ്പിക്കുന്ന പദ...  Malayalam\n",
      "                                                   Text Language\n",
      "1979  विकि-शब्दकोष (एक मुक्त शब्दकोष एवं समानांतर को...    Hindi\n",
      "                                                   Text Language\n",
      "2042  விக்கிப்பீடியா (Wikipedia; /ˌwɪkɪˈpiːdiə/ (கேட...    Tamil\n",
      "                                                   Text    Language\n",
      "2511  Nature é uma revista científica interdisciplin...  Portugeese\n",
      "                                                   Text Language\n",
      "3250  Si vous disposez d'ouvrages ou d'articles de r...   French\n",
      "                                                   Text Language\n",
      "4264  Nature (Engels voor 'natuur') is een Brits voo...    Dutch\n",
      "                                                   Text Language\n",
      "4810  Nature es una de las más prestigiosas revistas...  Spanish\n",
      "                                                   Text Language\n",
      "5629  Δεν υπάρχει αυτή τη στιγμή  λήμμα με αυτόν τον...    Greek\n",
      "                             Text Language\n",
      "5994   Nature (в переводе с англ.  Russian\n",
      "                                                   Text Language\n",
      "6686  Nature er et britisk multidisciplinært vidensk...   Danish\n",
      "                                                   Text Language\n",
      "7114  Nature è una delle più antiche ed importanti r...  Italian\n",
      "                                                   Text Language\n",
      "7812  Nature (Fransızca ve İngilizce: Nature = doğa)...  Turkish\n",
      "                                                   Text  Language\n",
      "8286  Nature  är en framstående brittisk vetenskapli...  Sweedish\n",
      "                                                   Text Language\n",
      "8962  نيتشر (بالإنجليزية: Nature)‏ قد تعني:    تعديل...   Arabic\n",
      "                                                   Text Language\n",
      "9498  .Wir sind alle auf der Suche nach schnellen We...   German\n",
      "                                                   Text Language\n",
      "9968  .ನಾವೆಲ್ಲರೂ ಇಂಗ್ಲಿಷ್ನಲ್ಲಿ ಹೆಚ್ಚು ನಿರರ್ಗಳವಾಗಲು ತ...  Kannada\n"
     ]
    }
   ],
   "source": [
    "for language in data['Language'].unique():\n",
    "    print(data.loc[data['Language'] == language].head(1))"
   ]
  },
  {
   "cell_type": "markdown",
   "id": "e4540ca6",
   "metadata": {
    "papermill": {
     "duration": 0.008291,
     "end_time": "2023-03-22T08:21:00.391778",
     "exception": false,
     "start_time": "2023-03-22T08:21:00.383487",
     "status": "completed"
    },
    "tags": []
   },
   "source": [
    "# Data Preprocessing"
   ]
  },
  {
   "cell_type": "code",
   "execution_count": 20,
   "id": "0af2d7fa",
   "metadata": {
    "execution": {
     "iopub.execute_input": "2023-03-22T08:21:00.412112Z",
     "iopub.status.busy": "2023-03-22T08:21:00.411562Z",
     "iopub.status.idle": "2023-03-22T08:21:00.592179Z",
     "shell.execute_reply": "2023-03-22T08:21:00.590313Z"
    },
    "papermill": {
     "duration": 0.195486,
     "end_time": "2023-03-22T08:21:00.595888",
     "exception": false,
     "start_time": "2023-03-22T08:21:00.400402",
     "status": "completed"
    },
    "tags": []
   },
   "outputs": [],
   "source": [
    "# Cleaning text\n",
    "texts = data['Text']\n",
    "cleaned = []\n",
    "for txt in texts:\n",
    "    txt = re.sub(r'[\\([{})\\]!@#$,\"%^*?:;~`]', ' ', txt)\n",
    "    txt = re.sub(r\"\\\\|[0-9]|/|-|_|'|\\.\", '', txt)\n",
    "    txt = re.sub('\\s+', ' ', txt)  \n",
    "    txt = txt.lower()\n",
    "    cleaned.append(txt)\n",
    "\n",
    "data['text_cleaned'] = cleaned"
   ]
  },
  {
   "cell_type": "markdown",
   "id": "fc536b1a",
   "metadata": {},
   "source": [
    "**Note: Realized I accidentally included the entire dataset in the BOWs implementation, skewing the accuracies for unseen data. I need to go back to UNK OOV and smooth.**"
   ]
  },
  {
   "cell_type": "code",
   "execution_count": null,
   "id": "621249e7",
   "metadata": {
    "execution": {
     "iopub.execute_input": "2023-03-22T08:21:00.621437Z",
     "iopub.status.busy": "2023-03-22T08:21:00.620942Z",
     "iopub.status.idle": "2023-03-22T08:21:01.897479Z",
     "shell.execute_reply": "2023-03-22T08:21:01.895347Z"
    },
    "papermill": {
     "duration": 1.294756,
     "end_time": "2023-03-22T08:21:01.901409",
     "exception": false,
     "start_time": "2023-03-22T08:21:00.606653",
     "status": "completed"
    },
    "tags": []
   },
   "outputs": [],
   "source": [
    "# Tokenization & Vectorization\n",
    "tokenizer = Tokenizer(oov_token=\"<UNK>\")\n",
    "tokenizer.fit_on_texts(texts)  # word -> index\n",
    "print(f'Vocabulary, size {len(tokenizer.word_index) + 1}: {list(tokenizer.word_index.keys())[:50]}...')\n",
    "\n",
    "vectors = tokenizer.texts_to_matrix(texts, mode='count')  # bag of words\n",
    "print(f'\\nVector shape: {vectors.shape}')  # data samples x vocab size"
   ]
  },
  {
   "cell_type": "code",
   "execution_count": null,
   "id": "7f172753",
   "metadata": {
    "execution": {
     "iopub.execute_input": "2023-03-22T08:21:01.923381Z",
     "iopub.status.busy": "2023-03-22T08:21:01.921995Z",
     "iopub.status.idle": "2023-03-22T08:21:06.266281Z",
     "shell.execute_reply": "2023-03-22T08:21:06.263745Z"
    },
    "papermill": {
     "duration": 4.35971,
     "end_time": "2023-03-22T08:21:06.270137",
     "exception": false,
     "start_time": "2023-03-22T08:21:01.910427",
     "status": "completed"
    },
    "tags": []
   },
   "outputs": [],
   "source": [
    "Y = data['Language'].to_numpy().reshape(-1,1)\n",
    "enc = OneHotEncoder(sparse=False).fit(Y)\n",
    "\n",
    "# Create train/test splits\n",
    "X_train, X_test, Y_train, Y_test = train_test_split(vectors, Y, test_size=0.2, random_state=42)\n",
    "X_train, X_test = X_train.T, X_test.T  # (d, n) d features x n samples\n",
    "\n",
    "# Convert labels to one-hot encodings\n",
    "Y_train_hot, Y_test_hot = enc.transform(Y_train).T, enc.transform(Y_test).T\n",
    "\n",
    "print(f'X_train shape: {X_train.shape}, Y_train_hot shape: {Y_train_hot.shape}; X_test shape: {X_test.shape}, Y_test_hot shape: {Y_test_hot.shape}')"
   ]
  },
  {
   "cell_type": "markdown",
   "id": "62049bae",
   "metadata": {
    "papermill": {
     "duration": 0.008936,
     "end_time": "2023-03-22T08:21:06.288111",
     "exception": false,
     "start_time": "2023-03-22T08:21:06.279175",
     "status": "completed"
    },
    "tags": []
   },
   "source": [
    "# Scikit Learn Logistic Regression Model"
   ]
  },
  {
   "cell_type": "code",
   "execution_count": null,
   "id": "78b8d0b1",
   "metadata": {
    "execution": {
     "iopub.execute_input": "2023-03-22T08:21:06.308389Z",
     "iopub.status.busy": "2023-03-22T08:21:06.307873Z",
     "iopub.status.idle": "2023-03-22T08:24:14.133496Z",
     "shell.execute_reply": "2023-03-22T08:24:14.130642Z"
    },
    "papermill": {
     "duration": 187.841674,
     "end_time": "2023-03-22T08:24:14.138940",
     "exception": false,
     "start_time": "2023-03-22T08:21:06.297266",
     "status": "completed"
    },
    "tags": []
   },
   "outputs": [],
   "source": [
    "def sklearn_logistic_regression(X, Y):\n",
    "    lr_model = LogisticRegression()\n",
    "    lr_model.fit(X, Y)\n",
    "\n",
    "    print(f'Accuracy on training set: {lr_model.score(X_train.T, Y_train.reshape(-1))}')\n",
    "    print(f'Accuracy on test set: {lr_model.score(X_test.T, Y_test.reshape(-1))}')\n",
    "\n",
    "sklearn_logistic_regression(X_train.T, Y_train.reshape(-1))"
   ]
  },
  {
   "cell_type": "markdown",
   "id": "3cc1ff74",
   "metadata": {
    "papermill": {
     "duration": 0.022818,
     "end_time": "2023-03-22T08:24:14.184020",
     "exception": false,
     "start_time": "2023-03-22T08:24:14.161202",
     "status": "completed"
    },
    "tags": []
   },
   "source": [
    "# My Numpy Softmax Regression Model"
   ]
  },
  {
   "cell_type": "markdown",
   "id": "d0d2b174",
   "metadata": {
    "papermill": {
     "duration": 0.02237,
     "end_time": "2023-03-22T08:24:14.228548",
     "exception": false,
     "start_time": "2023-03-22T08:24:14.206178",
     "status": "completed"
    },
    "tags": []
   },
   "source": [
    "**Model Implementation**"
   ]
  },
  {
   "cell_type": "code",
   "execution_count": null,
   "id": "7bade659",
   "metadata": {
    "execution": {
     "iopub.execute_input": "2023-03-22T08:24:14.257593Z",
     "iopub.status.busy": "2023-03-22T08:24:14.257097Z",
     "iopub.status.idle": "2023-03-22T08:24:14.264200Z",
     "shell.execute_reply": "2023-03-22T08:24:14.263085Z"
    },
    "papermill": {
     "duration": 0.02038,
     "end_time": "2023-03-22T08:24:14.266679",
     "exception": false,
     "start_time": "2023-03-22T08:24:14.246299",
     "status": "completed"
    },
    "tags": []
   },
   "outputs": [],
   "source": [
    "def linear(X, W, b):\n",
    "    \"\"\"Calculates the linear model.\n",
    "    \n",
    "    Args:\n",
    "        X: (d, n) d data samples by n features\n",
    "        W: (d, k) weight parameters for model, d feature dimensions by k classes\n",
    "        b: (k,) bias parameters for k classes\n",
    "    \n",
    "    Returns:\n",
    "        Z: (k, n) applied linear model for k classes by n data samples\n",
    "    \"\"\"\n",
    "    Z = np.matmul(W.T, X) + b.reshape(-1, 1)\n",
    "    return Z"
   ]
  },
  {
   "cell_type": "code",
   "execution_count": null,
   "id": "ea92d7e2",
   "metadata": {
    "execution": {
     "iopub.execute_input": "2023-03-22T08:24:14.287651Z",
     "iopub.status.busy": "2023-03-22T08:24:14.286638Z",
     "iopub.status.idle": "2023-03-22T08:24:14.295097Z",
     "shell.execute_reply": "2023-03-22T08:24:14.293577Z"
    },
    "papermill": {
     "duration": 0.022619,
     "end_time": "2023-03-22T08:24:14.298252",
     "exception": false,
     "start_time": "2023-03-22T08:24:14.275633",
     "status": "completed"
    },
    "tags": []
   },
   "outputs": [],
   "source": [
    "def softmax(Z):\n",
    "    \"\"\"Defines the softmax function.\n",
    "    \n",
    "    Args:\n",
    "        Z: (k, n) applied linear model for k classes by n data samples\n",
    "    \n",
    "    Returns:\n",
    "        softmax: (k, n) estimated probability hypotheses P(y=i|x;w,b)\n",
    "            for every i = 1,...,k target for all n samples ie.\n",
    "            softmax[k][i] = P(y_i=k|x;w,b), probability that the ith sample belongs to class k\n",
    "    \"\"\"\n",
    "    denominator = (np.exp(Z)).sum(axis=0)\n",
    "    numerator = np.exp(Z)\n",
    "    softmax = numerator / denominator\n",
    "    \n",
    "    return softmax"
   ]
  },
  {
   "cell_type": "code",
   "execution_count": null,
   "id": "6e27076c",
   "metadata": {
    "execution": {
     "iopub.execute_input": "2023-03-22T08:24:14.319857Z",
     "iopub.status.busy": "2023-03-22T08:24:14.319377Z",
     "iopub.status.idle": "2023-03-22T08:24:14.326745Z",
     "shell.execute_reply": "2023-03-22T08:24:14.324950Z"
    },
    "papermill": {
     "duration": 0.022026,
     "end_time": "2023-03-22T08:24:14.329727",
     "exception": false,
     "start_time": "2023-03-22T08:24:14.307701",
     "status": "completed"
    },
    "tags": []
   },
   "outputs": [],
   "source": [
    "def compute_cost(H, Y):\n",
    "    \"\"\"Computes total cost.\n",
    "    \n",
    "    Args:\n",
    "        H: (k, n) estimated softmax probability hypotheses s.t. H[k][i] = P(y_i=k|x;w,b),\n",
    "            columns correspond to the likelihood the ith column belongs to the kth class\n",
    "        Y: (k, n) one-hot encoded targets of k classes by n data samples\n",
    "    \n",
    "    Returns:\n",
    "        cost: (scalar) cost\n",
    "    \"\"\"\n",
    "    loss = (np.multiply(Y, np.log(H))).sum(axis=0)  # (n,) loss for n samples\n",
    "    cost = -loss.sum()  # (scalar) total cost\n",
    "    \n",
    "    return cost"
   ]
  },
  {
   "cell_type": "code",
   "execution_count": null,
   "id": "eee89998",
   "metadata": {
    "execution": {
     "iopub.execute_input": "2023-03-22T08:24:14.352028Z",
     "iopub.status.busy": "2023-03-22T08:24:14.351163Z",
     "iopub.status.idle": "2023-03-22T08:24:14.358094Z",
     "shell.execute_reply": "2023-03-22T08:24:14.356949Z"
    },
    "papermill": {
     "duration": 0.021139,
     "end_time": "2023-03-22T08:24:14.360948",
     "exception": false,
     "start_time": "2023-03-22T08:24:14.339809",
     "status": "completed"
    },
    "scrolled": true,
    "tags": []
   },
   "outputs": [],
   "source": [
    "def gradient_descent(X, Y, H, b):\n",
    "    \"\"\"Computes the gradient for softmax regression.\n",
    "\n",
    "    Args:\n",
    "        X: (d, n) d features by n data samples\n",
    "        Y: (k, n) one-hot encoded targets for k classes by n data samples\n",
    "        H: (k, n) estimated softmax probability hypotheses s.t. H[k][i] = P(y_i=k|x;w,b)\n",
    "        b: (k,) bias parameters for k classes\n",
    "\n",
    "    Returns:\n",
    "        dj_dw: (d, k) gradients of the cost w.r.t. parameters W\n",
    "        dj_db: (k,) gradients of cost w.r.t parameter b\n",
    "    \"\"\"\n",
    "    n = X.shape[1]\n",
    "    k = Y.shape[0]\n",
    "    dj_dw = -(1 / n) * np.dot(X, (Y - H).T)\n",
    "    dj_db = -(1 / n) * np.sum(Y - H, axis=1)\n",
    "    \n",
    "    return dj_dw, dj_db.reshape(-1)"
   ]
  },
  {
   "cell_type": "code",
   "execution_count": null,
   "id": "87adcfcf",
   "metadata": {
    "execution": {
     "iopub.execute_input": "2023-03-22T08:24:14.382075Z",
     "iopub.status.busy": "2023-03-22T08:24:14.381238Z",
     "iopub.status.idle": "2023-03-22T08:24:14.390409Z",
     "shell.execute_reply": "2023-03-22T08:24:14.388938Z"
    },
    "papermill": {
     "duration": 0.023415,
     "end_time": "2023-03-22T08:24:14.393614",
     "exception": false,
     "start_time": "2023-03-22T08:24:14.370199",
     "status": "completed"
    },
    "tags": []
   },
   "outputs": [],
   "source": [
    "def fit(X, Y, alpha, epochs, k):\n",
    "    \"\"\"Trains the softmax regression model.\n",
    "    \n",
    "    Args: \n",
    "        X: (d, n) n data samples by d features\n",
    "        Y: (k, n) one-hot encoded targets for n data samples\n",
    "        alpha: (scalar) learning rate for gradient descent\n",
    "        epochs: (scalar) number of iterations to train\n",
    "        k: (scalar) number of classes\n",
    "        \n",
    "    Returns:\n",
    "        W: (d, k) fitted parameters for d features by k classes\n",
    "        b: (k,) fitted bias parameter for k classes\n",
    "    \"\"\"\n",
    "    d, n = X.shape  # num features x num samples\n",
    "    \n",
    "    W_init = np.zeros((d, k))\n",
    "    W = W_init\n",
    "    b = np.zeros((k,))\n",
    "    costs = []\n",
    "    \n",
    "    for i in range(epochs):\n",
    "        Z = linear(X, W, b)\n",
    "        H = softmax(Z)\n",
    "        \n",
    "        cost = compute_cost(H, Y)\n",
    "        \n",
    "        dj_dw, dj_db = gradient_descent(X, Y, H, b)\n",
    "        \n",
    "        W = W - alpha * dj_dw\n",
    "        b = b - alpha * dj_db\n",
    "        \n",
    "        if i % 100 == 0:\n",
    "            costs.append({'epoch': i, 'cost': cost})\n",
    "            print(f'epoch: {i}, cost: {cost}')\n",
    "    \n",
    "    return W, b.reshape(-1)"
   ]
  },
  {
   "cell_type": "code",
   "execution_count": null,
   "id": "1a4b9d4d",
   "metadata": {
    "execution": {
     "iopub.execute_input": "2023-03-22T08:24:14.414529Z",
     "iopub.status.busy": "2023-03-22T08:24:14.414096Z",
     "iopub.status.idle": "2023-03-22T08:24:14.420538Z",
     "shell.execute_reply": "2023-03-22T08:24:14.418938Z"
    },
    "papermill": {
     "duration": 0.019984,
     "end_time": "2023-03-22T08:24:14.423342",
     "exception": false,
     "start_time": "2023-03-22T08:24:14.403358",
     "status": "completed"
    },
    "tags": []
   },
   "outputs": [],
   "source": [
    "def predict(X, W, b, enc):\n",
    "    \"\"\"Makes predictions for X given W, b.\n",
    "    \n",
    "    Args: \n",
    "        X: (d, n) n data samples by d features\n",
    "        W: (d, k) parameters for d features by k classes\n",
    "        b: (k,) bias parameter for k classes\n",
    "        enc: OneHotEncoder used to encode Y\n",
    "        \n",
    "    Returns:\n",
    "        Y_hat: (n,) predictions for X\n",
    "    \"\"\"\n",
    "    Z = linear(X, W, b)\n",
    "    H = softmax(Z)\n",
    "    \n",
    "    Y_hat = enc.inverse_transform(H.T)\n",
    "    return Y_hat"
   ]
  },
  {
   "cell_type": "code",
   "execution_count": null,
   "id": "946d2ee6",
   "metadata": {
    "execution": {
     "iopub.execute_input": "2023-03-22T08:24:14.443886Z",
     "iopub.status.busy": "2023-03-22T08:24:14.443453Z",
     "iopub.status.idle": "2023-03-22T08:24:14.452307Z",
     "shell.execute_reply": "2023-03-22T08:24:14.450748Z"
    },
    "papermill": {
     "duration": 0.022545,
     "end_time": "2023-03-22T08:24:14.455132",
     "exception": false,
     "start_time": "2023-03-22T08:24:14.432587",
     "status": "completed"
    },
    "tags": []
   },
   "outputs": [],
   "source": [
    "def create_confusion_matrix(Y, Y_hat, title):\n",
    "    \"\"\"Creates a confusion matrix between Y true and Y predict.\"\"\"\n",
    "    Y, Y_hat = Y.reshape(-1), Y_hat.reshape(-1)\n",
    "    classes = np.unique(Y)\n",
    "    \n",
    "    cm = confusion_matrix(Y, Y_hat)\n",
    "    \n",
    "    plt.figure(figsize = (15,10))\n",
    "    ax = sns.heatmap(cm, annot=True, cmap=sns.cubehelix_palette(), xticklabels=classes, \\\n",
    "                     yticklabels=classes, linewidths=0.005, fmt='g')\n",
    "    \n",
    "    ax.set_xlabel('Predict', fontsize=12, labelpad=15)\n",
    "    ax.set_ylabel('True', fontsize=12, labelpad=15)\n",
    "    ax.set_title(title, fontsize=14, pad=20)"
   ]
  },
  {
   "cell_type": "code",
   "execution_count": null,
   "id": "bfd22add",
   "metadata": {
    "execution": {
     "iopub.execute_input": "2023-03-22T08:24:14.476492Z",
     "iopub.status.busy": "2023-03-22T08:24:14.476059Z",
     "iopub.status.idle": "2023-03-22T08:24:14.486862Z",
     "shell.execute_reply": "2023-03-22T08:24:14.485233Z"
    },
    "jupyter": {
     "source_hidden": true
    },
    "papermill": {
     "duration": 0.02568,
     "end_time": "2023-03-22T08:24:14.490114",
     "exception": false,
     "start_time": "2023-03-22T08:24:14.464434",
     "status": "completed"
    },
    "tags": []
   },
   "outputs": [],
   "source": [
    "# Use this for simple model debugging purposes\n",
    "def simple():\n",
    "    X_simple = np.matrix([[1, 2, 3],\n",
    "                        [4, 5, 6]])  # 2 features x 3 samples\n",
    "    Y_simple = np.matrix([[0, 0, 1],\n",
    "                         [0, 1, 0],\n",
    "                         [0, 0, 0],\n",
    "                         [1, 0, 0]])\n",
    "    W_simple = np.matrix([[1, 2, 3, 4],\n",
    "                         [5, 6, 7, 8]])  # 2 features x 4 classes\n",
    "    b_simple = np.array([1, 2, 3, 4])  # bias for 4 classes\n",
    "\n",
    "    Z_simple = linear(X_simple, W_simple, b_simple)\n",
    "    H_simple = softmax(Z_simple)\n",
    "    k_simple = Y_simple.shape[0]\n",
    "    W_simple_fit, b_simple_fit = fit(X_simple, Y_simple, 0.01, 10000, k_simple)\n",
    "\n",
    "    print(f'trained W: {W_simple_fit}')\n",
    "    print(f'trained b: {b_simple_fit}')\n",
    "\n",
    "    def predict_simple(X, W, b):\n",
    "        Z = linear(X, W, b)\n",
    "        H = softmax(Z)\n",
    "\n",
    "        y_hat = np.argmax(H, axis=0)\n",
    "        return y_hat\n",
    "\n",
    "    print(f'predictions: {predict_simple(X_simple, W_simple_fit, b_simple_fit)}')\n",
    "\n",
    "# simple()"
   ]
  },
  {
   "cell_type": "markdown",
   "id": "490e4dfd",
   "metadata": {
    "papermill": {
     "duration": 0.009052,
     "end_time": "2023-03-22T08:24:14.508555",
     "exception": false,
     "start_time": "2023-03-22T08:24:14.499503",
     "status": "completed"
    },
    "tags": []
   },
   "source": [
    "**Training and Testing the Model**"
   ]
  },
  {
   "cell_type": "code",
   "execution_count": null,
   "id": "d30d9086",
   "metadata": {
    "execution": {
     "iopub.execute_input": "2023-03-22T08:24:14.531594Z",
     "iopub.status.busy": "2023-03-22T08:24:14.529741Z",
     "iopub.status.idle": "2023-03-22T19:29:07.694656Z",
     "shell.execute_reply": "2023-03-22T19:29:07.692870Z"
    },
    "papermill": {
     "duration": 39893.225299,
     "end_time": "2023-03-22T19:29:07.743459",
     "exception": false,
     "start_time": "2023-03-22T08:24:14.518160",
     "status": "completed"
    },
    "tags": []
   },
   "outputs": [],
   "source": [
    "# Train the model\n",
    "alpha = 0.07  # learning rate\n",
    "epochs = 15000\n",
    "k = len(data['Language'].unique())  # num classes\n",
    "\n",
    "print(f'Training... alpha={alpha}, epochs={epochs}')\n",
    "\n",
    "W, b = fit(X_train, Y_train_hot, alpha, epochs, k)\n",
    "\n",
    "print('\\nDone.')"
   ]
  },
  {
   "cell_type": "code",
   "execution_count": null,
   "id": "60e0f10c",
   "metadata": {
    "execution": {
     "iopub.execute_input": "2023-03-22T19:29:07.818633Z",
     "iopub.status.busy": "2023-03-22T19:29:07.818247Z",
     "iopub.status.idle": "2023-03-22T19:29:09.107963Z",
     "shell.execute_reply": "2023-03-22T19:29:09.106256Z"
    },
    "papermill": {
     "duration": 1.321999,
     "end_time": "2023-03-22T19:29:09.111379",
     "exception": false,
     "start_time": "2023-03-22T19:29:07.789380",
     "status": "completed"
    },
    "tags": []
   },
   "outputs": [],
   "source": [
    "# Print Y train performance\n",
    "print('Train set performance with Numpy Softmax Regression model:\\n')\n",
    "print(f'X_train shape: {X_train.shape}, Y_train_hot shape: {Y_train_hot.shape}\\n')\n",
    "\n",
    "Y_train_hat = predict(X_train, W, b, enc)\n",
    "\n",
    "print(classification_report(Y_train, Y_train_hat, zero_division=0))"
   ]
  },
  {
   "cell_type": "code",
   "execution_count": null,
   "id": "c3b07ac7",
   "metadata": {
    "execution": {
     "iopub.execute_input": "2023-03-22T19:29:09.153136Z",
     "iopub.status.busy": "2023-03-22T19:29:09.152471Z",
     "iopub.status.idle": "2023-03-22T19:29:10.577251Z",
     "shell.execute_reply": "2023-03-22T19:29:10.575642Z"
    },
    "papermill": {
     "duration": 1.448535,
     "end_time": "2023-03-22T19:29:10.580021",
     "exception": false,
     "start_time": "2023-03-22T19:29:09.131486",
     "status": "completed"
    },
    "tags": []
   },
   "outputs": [],
   "source": [
    "# Print Y test performance\n",
    "print('Test set performance with Numpy Softmax Regression model:\\n')\n",
    "print(f'X_test shape: {X_test.shape}, Y_test_hot shape: {Y_test_hot.shape}\\n')\n",
    "\n",
    "Y_test_hat = predict(X_test, W, b, enc)\n",
    "\n",
    "print(classification_report(Y_test, Y_test_hat, zero_division=0))"
   ]
  },
  {
   "cell_type": "code",
   "execution_count": null,
   "id": "c8153a3f",
   "metadata": {
    "execution": {
     "iopub.execute_input": "2023-03-22T19:29:10.619332Z",
     "iopub.status.busy": "2023-03-22T19:29:10.618942Z",
     "iopub.status.idle": "2023-03-22T19:29:12.271450Z",
     "shell.execute_reply": "2023-03-22T19:29:12.270145Z"
    },
    "papermill": {
     "duration": 1.676127,
     "end_time": "2023-03-22T19:29:12.275082",
     "exception": false,
     "start_time": "2023-03-22T19:29:10.598955",
     "status": "completed"
    },
    "tags": []
   },
   "outputs": [],
   "source": [
    "# Draw the confusion matrix for Y test\n",
    "create_confusion_matrix(Y_test, Y_test_hat, title='Confusion matrix for Softmax Regression Model for Language Detection, Y Test')"
   ]
  },
  {
   "cell_type": "markdown",
   "id": "b20bfd7d",
   "metadata": {
    "papermill": {
     "duration": 0.02027,
     "end_time": "2023-03-22T19:29:12.316595",
     "exception": false,
     "start_time": "2023-03-22T19:29:12.296325",
     "status": "completed"
    },
    "tags": []
   },
   "source": [
    "# Tensorflow Neural Network Model"
   ]
  },
  {
   "cell_type": "code",
   "execution_count": null,
   "id": "aeedbb8b",
   "metadata": {
    "execution": {
     "iopub.execute_input": "2023-03-22T19:29:12.360411Z",
     "iopub.status.busy": "2023-03-22T19:29:12.359057Z",
     "iopub.status.idle": "2023-03-22T19:29:12.367384Z",
     "shell.execute_reply": "2023-03-22T19:29:12.366150Z"
    },
    "papermill": {
     "duration": 0.033148,
     "end_time": "2023-03-22T19:29:12.369918",
     "exception": false,
     "start_time": "2023-03-22T19:29:12.336770",
     "status": "completed"
    },
    "tags": []
   },
   "outputs": [],
   "source": [
    "def tensorflow_model(X, Y, k, epochs):\n",
    "    \"\"\"Fits a simple Tensorflow NN to X, Y.\n",
    "    \n",
    "    Args:\n",
    "        X: Input data\n",
    "        Y: Target values, one-hot encoded\n",
    "        k: Number of classes\n",
    "        epochs: Number of iterations\n",
    "    \n",
    "    Returns:\n",
    "        tf_model: The Tensorflow NN model\n",
    "    \"\"\"\n",
    "    tf_model = Sequential([Dense(50, activation='relu'),\n",
    "                          Dense(25, activation='relu'),\n",
    "                          Dense(k, activation='linear')])\n",
    "    tf_model.compile(loss=tf.keras.losses.CategoricalCrossentropy(from_logits=True),\n",
    "                    optimizer=tf.keras.optimizers.Adam(0.001))\n",
    "    tf_model.fit(X, Y, epochs=epochs)\n",
    "    \n",
    "    return tf_model"
   ]
  },
  {
   "cell_type": "code",
   "execution_count": null,
   "id": "8b012312",
   "metadata": {
    "execution": {
     "iopub.execute_input": "2023-03-22T19:29:12.413006Z",
     "iopub.status.busy": "2023-03-22T19:29:12.412479Z",
     "iopub.status.idle": "2023-03-22T19:29:12.420146Z",
     "shell.execute_reply": "2023-03-22T19:29:12.418874Z"
    },
    "papermill": {
     "duration": 0.032274,
     "end_time": "2023-03-22T19:29:12.422788",
     "exception": false,
     "start_time": "2023-03-22T19:29:12.390514",
     "status": "completed"
    },
    "tags": []
   },
   "outputs": [],
   "source": [
    "def tensorflow_model_predict(X, tf_model):\n",
    "    \"\"\"Makes predictions on X with tf_model.\n",
    "    \n",
    "    Args:\n",
    "        X: data to predict on\n",
    "        tf_model: Tensorflow model\n",
    "    \n",
    "    Returns:\n",
    "        Y_hat: Categorical predictions on X\n",
    "    \"\"\"\n",
    "    Y_pred = tf_model.predict(X)\n",
    "    Y_pred_sm = tf.nn.softmax(Y_pred).numpy()\n",
    "    Y_hat = enc.inverse_transform(Y_pred_sm)\n",
    "    \n",
    "    return Y_hat"
   ]
  },
  {
   "cell_type": "code",
   "execution_count": null,
   "id": "d1a7cd37",
   "metadata": {
    "execution": {
     "iopub.execute_input": "2023-03-22T19:29:12.466639Z",
     "iopub.status.busy": "2023-03-22T19:29:12.465936Z",
     "iopub.status.idle": "2023-03-22T19:30:38.535350Z",
     "shell.execute_reply": "2023-03-22T19:30:38.533740Z"
    },
    "papermill": {
     "duration": 86.095038,
     "end_time": "2023-03-22T19:30:38.538588",
     "exception": false,
     "start_time": "2023-03-22T19:29:12.443550",
     "status": "completed"
    },
    "tags": []
   },
   "outputs": [],
   "source": [
    "# Train tensorflow model\n",
    "print('Training Tensorflow model...')\n",
    "tf_model = tensorflow_model(X_train.T, Y_train_hot.T, k = len(data['Language'].unique()), epochs=10)"
   ]
  },
  {
   "cell_type": "code",
   "execution_count": null,
   "id": "640bc27f",
   "metadata": {
    "execution": {
     "iopub.execute_input": "2023-03-22T19:30:38.738106Z",
     "iopub.status.busy": "2023-03-22T19:30:38.737592Z",
     "iopub.status.idle": "2023-03-22T19:30:44.227213Z",
     "shell.execute_reply": "2023-03-22T19:30:44.225794Z"
    },
    "papermill": {
     "duration": 5.592839,
     "end_time": "2023-03-22T19:30:44.229791",
     "exception": false,
     "start_time": "2023-03-22T19:30:38.636952",
     "status": "completed"
    },
    "tags": []
   },
   "outputs": [],
   "source": [
    "print('Train set performance with Tensorflow model:\\n')\n",
    "\n",
    "Y_train_hat_tf = tensorflow_model_predict(X_train.T, tf_model)\n",
    "print(classification_report(Y_train, Y_train_hat_tf, zero_division=0))"
   ]
  },
  {
   "cell_type": "code",
   "execution_count": null,
   "id": "e9c41efa",
   "metadata": {
    "execution": {
     "iopub.execute_input": "2023-03-22T19:30:44.427545Z",
     "iopub.status.busy": "2023-03-22T19:30:44.427069Z",
     "iopub.status.idle": "2023-03-22T19:30:45.778299Z",
     "shell.execute_reply": "2023-03-22T19:30:45.776637Z"
    },
    "papermill": {
     "duration": 1.453176,
     "end_time": "2023-03-22T19:30:45.780661",
     "exception": false,
     "start_time": "2023-03-22T19:30:44.327485",
     "status": "completed"
    },
    "tags": []
   },
   "outputs": [],
   "source": [
    "print('Test set performance with Tensorflow model:\\n')\n",
    "\n",
    "Y_test_hat_tf = tensorflow_model_predict(X_test.T, tf_model)\n",
    "print(classification_report(Y_test, Y_test_hat_tf, zero_division=0))"
   ]
  },
  {
   "cell_type": "code",
   "execution_count": null,
   "id": "d264c97c",
   "metadata": {
    "papermill": {
     "duration": 0.097326,
     "end_time": "2023-03-22T19:30:45.974924",
     "exception": false,
     "start_time": "2023-03-22T19:30:45.877598",
     "status": "completed"
    },
    "tags": []
   },
   "outputs": [],
   "source": []
  }
 ],
 "metadata": {
  "kernelspec": {
   "display_name": "Python 3 (ipykernel)",
   "language": "python",
   "name": "python3"
  },
  "language_info": {
   "codemirror_mode": {
    "name": "ipython",
    "version": 3
   },
   "file_extension": ".py",
   "mimetype": "text/x-python",
   "name": "python",
   "nbconvert_exporter": "python",
   "pygments_lexer": "ipython3",
   "version": "3.10.4"
  },
  "papermill": {
   "default_parameters": {},
   "duration": 40215.140397,
   "end_time": "2023-03-22T19:30:49.646285",
   "environment_variables": {},
   "exception": null,
   "input_path": "__notebook__.ipynb",
   "output_path": "__notebook__.ipynb",
   "parameters": {},
   "start_time": "2023-03-22T08:20:34.505888",
   "version": "2.4.0"
  }
 },
 "nbformat": 4,
 "nbformat_minor": 5
}
